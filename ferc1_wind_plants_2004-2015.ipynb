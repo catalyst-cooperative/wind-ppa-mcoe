{
 "cells": [
  {
   "cell_type": "code",
   "execution_count": 1,
   "metadata": {
    "collapsed": true,
    "jupyter": {
     "outputs_hidden": true
    }
   },
   "outputs": [],
   "source": [
    "import sys\n",
    "sys.path.append('/Users/zaneselvans/code/catalyst/pudl')\n",
    "from pudl import ferc1\n",
    "import pandas as pd\n",
    "import numpy as np\n",
    "from sqlalchemy import create_engine"
   ]
  },
  {
   "cell_type": "code",
   "execution_count": 2,
   "metadata": {
    "collapsed": true,
    "jupyter": {
     "outputs_hidden": true
    }
   },
   "outputs": [],
   "source": [
    "def smallwind(wind_plants,f1_engine):\n",
    "    small_plant = pd.read_sql('''SELECT p.respondent_id, r.respondent_name, p.report_year, p.plant_name,\\\n",
    "                                p.yr_constructed, p.capacity_rating, p.net_demand, p.net_generation, p.plant_cost,\\\n",
    "                                p.plant_cost_mw, p.operation, p.expns_fuel, p.expns_maint, p.kind_of_fuel,\\\n",
    "                                p.fuel_cost\\\n",
    "                                FROM f1_gnrt_plant p JOIN f1_respondent_id r ON r.respondent_id=p.respondent_id''',f1_engine)\n",
    "\n",
    "    wind_name = small_plant[small_plant['plant_name'].str.contains(\"wind\", case=False)]\n",
    "    wind_fuel = small_plant[small_plant['kind_of_fuel'].str.contains(\"wind\", case=False)]\n",
    "    wind_plants = pd.concat([wind_plants,wind_name,wind_fuel])\n",
    "    wind_plants.drop_duplicates(inplace=True)\n",
    "    wind_plants = wind_plants[(wind_plants.yr_constructed!='')]\n",
    "    return(wind_plants)"
   ]
  },
  {
   "cell_type": "code",
   "execution_count": null,
   "metadata": {
    "collapsed": true,
    "jupyter": {
     "outputs_hidden": true
    }
   },
   "outputs": [],
   "source": [
    "wind_plants = pd.DataFrame()\n",
    "for year in range(2004,2016):\n",
    "    print('Initializing FERC Form 1 DB for {}'.format(year))\n",
    "    ferc1.init_db(refyear=2015,years=[year,])\n",
    "    f1_engine = create_engine('postgresql://catalyst@localhost:5432/ferc1')\n",
    "    wind_plants = smallwind(wind_plants, f1_engine)\n",
    "\n",
    "wind_plants.to_csv('ferc1_wind_plants_2004-2015.csv')"
   ]
  }
 ],
 "metadata": {
  "kernelspec": {
   "display_name": "Python 3",
   "language": "python",
   "name": "python3"
  },
  "language_info": {
   "codemirror_mode": {
    "name": "ipython",
    "version": 3
   },
   "file_extension": ".py",
   "mimetype": "text/x-python",
   "name": "python",
   "nbconvert_exporter": "python",
   "pygments_lexer": "ipython3",
   "version": "3.7.3"
  }
 },
 "nbformat": 4,
 "nbformat_minor": 4
}
